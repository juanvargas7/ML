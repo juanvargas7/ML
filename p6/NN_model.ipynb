{
 "cells": [
  {
   "cell_type": "code",
   "execution_count": 3,
   "metadata": {},
   "outputs": [],
   "source": [
    "import pandas as pd\n",
    "import numpy as np\n",
    "import torch\n",
    "from torch.utils.tensorboard import "
   ]
  },
  {
   "cell_type": "code",
   "execution_count": 6,
   "metadata": {},
   "outputs": [],
   "source": [
    "data = pd.read_excel('GeneExpressionCancer_training.xlsx')\n",
    "val_data = pd.read_excel('GeneExpressionCancer_validation.xlsx')"
   ]
  },
  {
   "cell_type": "code",
   "execution_count": null,
   "metadata": {},
   "outputs": [],
   "source": [
    "%load_ext tensorboard"
   ]
  },
  {
   "cell_type": "code",
   "execution_count": 4,
   "metadata": {},
   "outputs": [],
   "source": [
    "#Normally this goes to a different file , but for now imma leave it here \n",
    "#Use ReLu\n",
    "\n",
    "class my_network(torch.nn.Module):\n",
    "    def __init__(self, nfeatures):\n",
    "        super().__init__\n",
    "        self.nfeatures = nfeatures\n",
    "        self.batchsize = 500\n",
    "        self.learnrate = 0.01\n",
    "        self.epoch = 250\n",
    "        \n",
    "        self.fc = torch.nn.Sequential(\n",
    "            torch.nn.Linear(self.nfeatures, 20),\n",
    "            torch.nn.Sigmoid(),\n",
    "            torch.nn.Linear(20, 1),\n",
    "            torch.nn.Sigmoid(),   \n",
    "        )\n",
    "\n",
    "    def forward(self, x):\n",
    "        x = torch.tensor(x , dtype= torch.float32)\n",
    "        return self.fc(x)\n",
    "\n",
    "\n",
    "    def train_network(self, t_data, label,val_data,val_label):\n",
    "        \n",
    "        #First configure batches\n",
    "\n",
    "        nTrainSamples = t_data.shape()\n",
    "        nTrainBatches = nTrainSamples // self.batchsize\n",
    "        if nTrainBatches * \n",
    "\n",
    "        #Configure device \n",
    "        \n",
    "        device = torch.device('cpu')\n",
    "        self.to(device)\n",
    "\n",
    "        #configure optimizer\n",
    "        optimizer = torch.optim.SGD(self.parameters(), )\n",
    "\n",
    "        #Configure training\n",
    "\n",
    "\n",
    "\n"
   ]
  },
  {
   "cell_type": "code",
   "execution_count": null,
   "metadata": {},
   "outputs": [],
   "source": []
  }
 ],
 "metadata": {
  "kernelspec": {
   "display_name": "Python 3",
   "language": "python",
   "name": "python3"
  },
  "language_info": {
   "codemirror_mode": {
    "name": "ipython",
    "version": 3
   },
   "file_extension": ".py",
   "mimetype": "text/x-python",
   "name": "python",
   "nbconvert_exporter": "python",
   "pygments_lexer": "ipython3",
   "version": "3.9.6"
  }
 },
 "nbformat": 4,
 "nbformat_minor": 2
}
