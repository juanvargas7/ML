{
 "cells": [
  {
   "cell_type": "code",
   "execution_count": 17,
   "metadata": {},
   "outputs": [],
   "source": [
    "from medmnist import DermaMNIST\n",
    "import torch\n",
    "import os\n",
    "import matplotlib\n",
    "from PIL import Image\n",
    "import matplotlib.pyplot as plt\n",
    "import torchvision.transforms as transforms"
   ]
  },
  {
   "cell_type": "code",
   "execution_count": 2,
   "metadata": {},
   "outputs": [
    {
     "name": "stdout",
     "output_type": "stream",
     "text": [
      "Current GPU Index: 0 Name: NVIDIA GeForce RTX 3080\n"
     ]
    }
   ],
   "source": [
    "if torch.cuda.is_available():\n",
    "    current_gpu = torch.cuda.current_device()\n",
    "    gpu_name = torch.cuda.get_device_name(current_gpu)\n",
    "    print(\"Current GPU Index:\", current_gpu, \"Name:\", gpu_name)\n"
   ]
  },
  {
   "cell_type": "code",
   "execution_count": 2,
   "metadata": {},
   "outputs": [
    {
     "name": "stdout",
     "output_type": "stream",
     "text": [
      "Using downloaded and verified file: ./dermamnist.npz\n",
      "Using downloaded and verified file: ./dermamnist.npz\n",
      "Using downloaded and verified file: ./dermamnist.npz\n"
     ]
    }
   ],
   "source": [
    "test = DermaMNIST(split = 'test', download= os.path.exists('./dermamnist.npz'), root = './') \n",
    "train = DermaMNIST(split = 'train', download= os.path.exists('./dermamnist.npz'), root = './') \n",
    "val = DermaMNIST(split = 'val', download= os.path.exists('./dermamnist.npz'), root = './') "
   ]
  },
  {
   "cell_type": "code",
   "execution_count": 12,
   "metadata": {},
   "outputs": [
    {
     "data": {
      "text/plain": [
       "Dataset DermaMNIST (dermamnist)\n",
       "    Number of datapoints: 1003\n",
       "    Root location: ./\n",
       "    Split: val\n",
       "    Task: multi-class\n",
       "    Number of channels: 3\n",
       "    Meaning of labels: {'0': 'actinic keratoses and intraepithelial carcinoma', '1': 'basal cell carcinoma', '2': 'benign keratosis-like lesions', '3': 'dermatofibroma', '4': 'melanoma', '5': 'melanocytic nevi', '6': 'vascular lesions'}\n",
       "    Number of samples: {'train': 7007, 'val': 1003, 'test': 2005}\n",
       "    Description: The DermaMNIST is based on the HAM10000, a large collection of multi-source dermatoscopic images of common pigmented skin lesions. The dataset consists of 10,015 dermatoscopic images categorized as 7 different diseases, formulized as a multi-class classification task. We split the images into training, validation and test set with a ratio of 7:1:2. The source images of 3×600×450 are resized into 3×28×28.\n",
       "    License: CC BY-NC 4.0"
      ]
     },
     "execution_count": 12,
     "metadata": {},
     "output_type": "execute_result"
    }
   ],
   "source": [
    "val"
   ]
  },
  {
   "cell_type": "code",
   "execution_count": 13,
   "metadata": {},
   "outputs": [
    {
     "data": {
      "text/plain": [
       "Dataset DermaMNIST (dermamnist)\n",
       "    Number of datapoints: 2005\n",
       "    Root location: ./\n",
       "    Split: test\n",
       "    Task: multi-class\n",
       "    Number of channels: 3\n",
       "    Meaning of labels: {'0': 'actinic keratoses and intraepithelial carcinoma', '1': 'basal cell carcinoma', '2': 'benign keratosis-like lesions', '3': 'dermatofibroma', '4': 'melanoma', '5': 'melanocytic nevi', '6': 'vascular lesions'}\n",
       "    Number of samples: {'train': 7007, 'val': 1003, 'test': 2005}\n",
       "    Description: The DermaMNIST is based on the HAM10000, a large collection of multi-source dermatoscopic images of common pigmented skin lesions. The dataset consists of 10,015 dermatoscopic images categorized as 7 different diseases, formulized as a multi-class classification task. We split the images into training, validation and test set with a ratio of 7:1:2. The source images of 3×600×450 are resized into 3×28×28.\n",
       "    License: CC BY-NC 4.0"
      ]
     },
     "execution_count": 13,
     "metadata": {},
     "output_type": "execute_result"
    }
   ],
   "source": [
    "test"
   ]
  },
  {
   "cell_type": "code",
   "execution_count": 14,
   "metadata": {},
   "outputs": [
    {
     "data": {
      "text/plain": [
       "Dataset DermaMNIST (dermamnist)\n",
       "    Number of datapoints: 7007\n",
       "    Root location: ./\n",
       "    Split: train\n",
       "    Task: multi-class\n",
       "    Number of channels: 3\n",
       "    Meaning of labels: {'0': 'actinic keratoses and intraepithelial carcinoma', '1': 'basal cell carcinoma', '2': 'benign keratosis-like lesions', '3': 'dermatofibroma', '4': 'melanoma', '5': 'melanocytic nevi', '6': 'vascular lesions'}\n",
       "    Number of samples: {'train': 7007, 'val': 1003, 'test': 2005}\n",
       "    Description: The DermaMNIST is based on the HAM10000, a large collection of multi-source dermatoscopic images of common pigmented skin lesions. The dataset consists of 10,015 dermatoscopic images categorized as 7 different diseases, formulized as a multi-class classification task. We split the images into training, validation and test set with a ratio of 7:1:2. The source images of 3×600×450 are resized into 3×28×28.\n",
       "    License: CC BY-NC 4.0"
      ]
     },
     "execution_count": 14,
     "metadata": {},
     "output_type": "execute_result"
    }
   ],
   "source": [
    "train"
   ]
  },
  {
   "cell_type": "code",
   "execution_count": 50,
   "metadata": {},
   "outputs": [
    {
     "data": {
      "image/png": "[encoded data removed]",
      "text/plain": [
       "<PIL.Image.Image image mode=RGB size=28x28>"
      ]
     },
     "execution_count": 50,
     "metadata": {},
     "output_type": "execute_result"
    }
   ],
   "source": [
    "image, label  = test[1] \n",
    "image \n"
   ]
  },
  {
   "cell_type": "code",
   "execution_count": 30,
   "metadata": {},
   "outputs": [
    {
     "data": {
      "image/png": "[encoded data removed]",
      "text/plain": [
       "<Figure size 640x480 with 1 Axes>"
      ]
     },
     "metadata": {},
     "output_type": "display_data"
    },
    {
     "data": {
      "image/png": "[encoded data removed]",
      "text/plain": [
       "<Figure size 640x480 with 1 Axes>"
      ]
     },
     "metadata": {},
     "output_type": "display_data"
    }
   ],
   "source": [
    "image, label = test[1]  \n",
    "\n",
    "\n",
    "plt.imshow(image)\n",
    "plt.title(f\"Label: {label[0]}\")  \n",
    "plt.axis('off')  \n",
    "plt.show()\n",
    "\n",
    "image, label = test[2]  \n",
    "\n",
    "\n",
    "plt.imshow(image)\n",
    "plt.title(f\"Label: {label[0]}\")  \n",
    "plt.axis('off')  \n",
    "plt.show()"
   ]
  },
  {
   "cell_type": "code",
   "execution_count": 32,
   "metadata": {},
   "outputs": [
    {
     "data": {
      "image/png": "[encoded data removed]",
      "text/plain": [
       "<Figure size 1200x400 with 4 Axes>"
      ]
     },
     "metadata": {},
     "output_type": "display_data"
    },
    {
     "data": {
      "image/png": "[encoded data removed]",
      "text/plain": [
       "<Figure size 1200x400 with 4 Axes>"
      ]
     },
     "metadata": {},
     "output_type": "display_data"
    }
   ],
   "source": [
    "def show_rgb_channels(image, label):\n",
    "    # Splitting the image into R, G, B channels\n",
    "    R, G, B = image.split()\n",
    "\n",
    "    # Plotting each channel\n",
    "    plt.figure(figsize=(12, 4))\n",
    "\n",
    "    plt.subplot(1, 4, 1)\n",
    "    plt.imshow(image)\n",
    "    plt.title(f\"Original Image\\nLabel: {label[0]}\")\n",
    "    plt.axis('off')\n",
    "\n",
    "    plt.subplot(1, 4, 2)\n",
    "    plt.imshow(R, cmap='Reds')\n",
    "    plt.title(\"Red Channel\")\n",
    "    plt.axis('off')\n",
    "\n",
    "    plt.subplot(1, 4, 3)\n",
    "    plt.imshow(G, cmap='Greens')\n",
    "    plt.title(\"Green Channel\")\n",
    "    plt.axis('off')\n",
    "\n",
    "    plt.subplot(1, 4, 4)\n",
    "    plt.imshow(B, cmap='Blues')\n",
    "    plt.title(\"Blue Channel\")\n",
    "    plt.axis('off')\n",
    "\n",
    "    plt.show()\n",
    "\n",
    "\n",
    "# Display RGB channels for test[1]\n",
    "image, label = test[1]\n",
    "show_rgb_channels(image, label)\n",
    "\n",
    "# Display RGB channels for test[2]\n",
    "image, label = test[2]\n",
    "show_rgb_channels(image, label)"
   ]
  },
  {
   "cell_type": "code",
   "execution_count": 33,
   "metadata": {},
   "outputs": [
    {
     "name": "stdout",
     "output_type": "stream",
     "text": [
      "Help on DermaMNIST in module medmnist.dataset object:\n",
      "\n",
      "class DermaMNIST(MedMNIST2D)\n",
      " |  DermaMNIST(split, transform=None, target_transform=None, download=False, as_rgb=False, root='C:\\\\Users\\\\Juan\\\\.medmnist')\n",
      " |  \n",
      " |  Method resolution order:\n",
      " |      DermaMNIST\n",
      " |      MedMNIST2D\n",
      " |      MedMNIST\n",
      " |      torch.utils.data.dataset.Dataset\n",
      " |      typing.Generic\n",
      " |      builtins.object\n",
      " |  \n",
      " |  Data and other attributes defined here:\n",
      " |  \n",
      " |  __annotations__ = {}\n",
      " |  \n",
      " |  __parameters__ = ()\n",
      " |  \n",
      " |  flag = 'dermamnist'\n",
      " |  \n",
      " |  ----------------------------------------------------------------------\n",
      " |  Methods inherited from MedMNIST2D:\n",
      " |  \n",
      " |  __getitem__(self, index)\n",
      " |      return: (without transform/target_transofrm)\n",
      " |          img: PIL.Image\n",
      " |          target: np.array of `L` (L=1 for single-label)\n",
      " |  \n",
      " |  montage(self, length=20, replace=False, save_folder=None)\n",
      " |  \n",
      " |  save(self, folder, postfix='png', write_csv=True)\n",
      " |  \n",
      " |  ----------------------------------------------------------------------\n",
      " |  Methods inherited from MedMNIST:\n",
      " |  \n",
      " |  __init__(self, split, transform=None, target_transform=None, download=False, as_rgb=False, root='C:\\\\Users\\\\Juan\\\\.medmnist')\n",
      " |      dataset\n",
      " |      :param split: 'train', 'val' or 'test', select subset\n",
      " |      :param transform: data transformation\n",
      " |      :param target_transform: target transformation\n",
      " |  \n",
      " |  __len__(self)\n",
      " |  \n",
      " |  __repr__(self)\n",
      " |      Adapted from torchvision.ss\n",
      " |  \n",
      " |  download(self)\n",
      " |  \n",
      " |  ----------------------------------------------------------------------\n",
      " |  Methods inherited from torch.utils.data.dataset.Dataset:\n",
      " |  \n",
      " |  __add__(self, other: 'Dataset[T_co]') -> 'ConcatDataset[T_co]'\n",
      " |  \n",
      " |  ----------------------------------------------------------------------\n",
      " |  Data descriptors inherited from torch.utils.data.dataset.Dataset:\n",
      " |  \n",
      " |  __dict__\n",
      " |      dictionary for instance variables (if defined)\n",
      " |  \n",
      " |  __weakref__\n",
      " |      list of weak references to the object (if defined)\n",
      " |  \n",
      " |  ----------------------------------------------------------------------\n",
      " |  Data and other attributes inherited from torch.utils.data.dataset.Dataset:\n",
      " |  \n",
      " |  __orig_bases__ = (typing.Generic[+T_co],)\n",
      " |  \n",
      " |  ----------------------------------------------------------------------\n",
      " |  Class methods inherited from typing.Generic:\n",
      " |  \n",
      " |  __class_getitem__(params) from builtins.type\n",
      " |  \n",
      " |  __init_subclass__(*args, **kwargs) from builtins.type\n",
      " |      This method is called when a class is subclassed.\n",
      " |      \n",
      " |      The default implementation does nothing. It may be\n",
      " |      overridden to extend subclasses.\n",
      "\n"
     ]
    }
   ],
   "source": [
    "help(test)"
   ]
  },
  {
   "cell_type": "code",
   "execution_count": 3,
   "metadata": {},
   "outputs": [],
   "source": [
    "from MyNetworkTemplate import MyNetwork\n",
    "\n",
    "image, label = test[1]\n",
    "\n",
    "# Transform the PIL image to a tensor\n",
    "transform = transforms.Compose([\n",
    "    transforms.Resize((28, 28)),  \n",
    "    transforms.ToTensor()\n",
    "])\n",
    "image = transform(image).unsqueeze(0)  # Add batch dimension\n"
   ]
  },
  {
   "cell_type": "code",
   "execution_count": 4,
   "metadata": {},
   "outputs": [],
   "source": [
    "from MyNetworkTemplate import MyNetwork\n",
    "model = MyNetwork(3,3)"
   ]
  },
  {
   "cell_type": "code",
   "execution_count": 5,
   "metadata": {},
   "outputs": [
    {
     "data": {
      "image/png": "[encoded data removed]",
      "text/plain": [
       "<Figure size 2000x2000 with 10 Axes>"
      ]
     },
     "metadata": {},
     "output_type": "display_data"
    }
   ],
   "source": [
    "output = model.conv(image)\n",
    "output = output[0].detach().numpy()  # Remove batch dimension and convert to numpy\n",
    "fig, axs = plt.subplots(1, output.shape[0], figsize=(20, 20))\n",
    "for i in range(output.shape[0]):\n",
    "    axs[i].imshow(output[i], cmap='gray')\n",
    "    axs[i].axis('off')\n",
    "plt.show()"
   ]
  },
  {
   "cell_type": "code",
   "execution_count": 6,
   "metadata": {},
   "outputs": [
    {
     "data": {
      "text/plain": [
       "(10, 10, 10)"
      ]
     },
     "execution_count": 6,
     "metadata": {},
     "output_type": "execute_result"
    }
   ],
   "source": [
    "output.shape"
   ]
  },
  {
   "cell_type": "code",
   "execution_count": 8,
   "metadata": {},
   "outputs": [
    {
     "data": {
      "text/plain": [
       "<enumerate at 0x1f8ad55a540>"
      ]
     },
     "execution_count": 8,
     "metadata": {},
     "output_type": "execute_result"
    }
   ],
   "source": [
    "import torch.utils.data as data\n",
    "batchSize = 100\n",
    "trainLoader = data.DataLoader(dataset=train, batch_size=batchSize, shuffle=True)\n",
    "\n",
    "enumerate(trainLoader)"
   ]
  },
  {
   "cell_type": "code",
   "execution_count": 12,
   "metadata": {},
   "outputs": [
    {
     "data": {
      "text/plain": [
       "3"
      ]
     },
     "execution_count": 12,
     "metadata": {},
     "output_type": "execute_result"
    }
   ],
   "source": [
    "from medmnist import INFO\n",
    "nChannels = INFO['dermamnist']['n_channels']\n",
    "nChannels"
   ]
  },
  {
   "cell_type": "code",
   "execution_count": 20,
   "metadata": {},
   "outputs": [
    {
     "name": "stdout",
     "output_type": "stream",
     "text": [
      "Using downloaded and verified file: ./dermamnist.npz\n",
      "Using downloaded and verified file: ./dermamnist.npz\n",
      "Using downloaded and verified file: ./dermamnist.npz\n",
      "Unexpected exception formatting exception. Falling back to standard exception\n"
     ]
    },
    {
     "name": "stderr",
     "output_type": "stream",
     "text": [
      "Traceback (most recent call last):\n",
      "  File \"c:\\Users\\Juan\\anaconda3\\envs\\cudapy\\lib\\site-packages\\IPython\\core\\interactiveshell.py\", line 3460, in run_code\n",
      "    exec(code_obj, self.user_global_ns, self.user_ns)\n",
      "  File \"C:\\Users\\Juan\\AppData\\Local\\Temp\\ipykernel_14084\\2092959434.py\", line 33, in <module>\n",
      "    model.trainModel(trainLoader, validationLoader)\n",
      "  File \"c:\\Users\\Juan\\Documents\\GitHub\\ML\\p7\\MyNetworkTemplate.py\", line 59, in trainModel\n",
      "  File \"c:\\Users\\Juan\\anaconda3\\envs\\cudapy\\lib\\site-packages\\torch\\utils\\data\\dataloader.py\", line 628, in __next__\n",
      "    data = self._next_data()\n",
      "  File \"c:\\Users\\Juan\\anaconda3\\envs\\cudapy\\lib\\site-packages\\torch\\utils\\data\\dataloader.py\", line 671, in _next_data\n",
      "    data = self._dataset_fetcher.fetch(index)  # may raise StopIteration\n",
      "  File \"c:\\Users\\Juan\\anaconda3\\envs\\cudapy\\lib\\site-packages\\torch\\utils\\data\\_utils\\fetch.py\", line 58, in fetch\n",
      "    data = [self.dataset[idx] for idx in possibly_batched_index]\n",
      "  File \"c:\\Users\\Juan\\anaconda3\\envs\\cudapy\\lib\\site-packages\\torch\\utils\\data\\_utils\\fetch.py\", line 58, in <listcomp>\n",
      "    data = [self.dataset[idx] for idx in possibly_batched_index]\n",
      "  File \"c:\\Users\\Juan\\anaconda3\\envs\\cudapy\\lib\\site-packages\\medmnist\\dataset.py\", line 109, in __getitem__\n",
      "    img = self.transform(img)\n",
      "  File \"c:\\Users\\Juan\\anaconda3\\envs\\cudapy\\lib\\site-packages\\torchvision\\transforms\\transforms.py\", line 95, in __call__\n",
      "    img = t(img)\n",
      "  File \"c:\\Users\\Juan\\anaconda3\\envs\\cudapy\\lib\\site-packages\\torchvision\\transforms\\transforms.py\", line 135, in __call__\n",
      "    return F.to_tensor(pic)\n",
      "  File \"c:\\Users\\Juan\\anaconda3\\envs\\cudapy\\lib\\site-packages\\torchvision\\transforms\\functional.py\", line 169, in to_tensor\n",
      "    img = img.permute((2, 0, 1)).contiguous()\n",
      "KeyboardInterrupt\n",
      "\n",
      "During handling of the above exception, another exception occurred:\n",
      "\n",
      "Traceback (most recent call last):\n",
      "  File \"c:\\Users\\Juan\\anaconda3\\envs\\cudapy\\lib\\site-packages\\IPython\\core\\interactiveshell.py\", line 2057, in showtraceback\n",
      "    stb = self.InteractiveTB.structured_traceback(\n",
      "  File \"c:\\Users\\Juan\\anaconda3\\envs\\cudapy\\lib\\site-packages\\IPython\\core\\ultratb.py\", line 1118, in structured_traceback\n",
      "    return FormattedTB.structured_traceback(\n",
      "  File \"c:\\Users\\Juan\\anaconda3\\envs\\cudapy\\lib\\site-packages\\IPython\\core\\ultratb.py\", line 1012, in structured_traceback\n",
      "    return VerboseTB.structured_traceback(\n",
      "  File \"c:\\Users\\Juan\\anaconda3\\envs\\cudapy\\lib\\site-packages\\IPython\\core\\ultratb.py\", line 865, in structured_traceback\n",
      "    formatted_exception = self.format_exception_as_a_whole(etype, evalue, etb, number_of_lines_of_context,\n",
      "  File \"c:\\Users\\Juan\\anaconda3\\envs\\cudapy\\lib\\site-packages\\IPython\\core\\ultratb.py\", line 818, in format_exception_as_a_whole\n",
      "    frames.append(self.format_record(r))\n",
      "  File \"c:\\Users\\Juan\\anaconda3\\envs\\cudapy\\lib\\site-packages\\IPython\\core\\ultratb.py\", line 736, in format_record\n",
      "    result += ''.join(_format_traceback_lines(frame_info.lines, Colors, self.has_colors, lvals))\n",
      "  File \"c:\\Users\\Juan\\anaconda3\\envs\\cudapy\\lib\\site-packages\\stack_data\\utils.py\", line 145, in cached_property_wrapper\n",
      "    value = obj.__dict__[self.func.__name__] = self.func(obj)\n",
      "  File \"c:\\Users\\Juan\\anaconda3\\envs\\cudapy\\lib\\site-packages\\stack_data\\core.py\", line 698, in lines\n",
      "    pieces = self.included_pieces\n",
      "  File \"c:\\Users\\Juan\\anaconda3\\envs\\cudapy\\lib\\site-packages\\stack_data\\utils.py\", line 145, in cached_property_wrapper\n",
      "    value = obj.__dict__[self.func.__name__] = self.func(obj)\n",
      "  File \"c:\\Users\\Juan\\anaconda3\\envs\\cudapy\\lib\\site-packages\\stack_data\\core.py\", line 649, in included_pieces\n",
      "    pos = scope_pieces.index(self.executing_piece)\n",
      "  File \"c:\\Users\\Juan\\anaconda3\\envs\\cudapy\\lib\\site-packages\\stack_data\\utils.py\", line 145, in cached_property_wrapper\n",
      "    value = obj.__dict__[self.func.__name__] = self.func(obj)\n",
      "  File \"c:\\Users\\Juan\\anaconda3\\envs\\cudapy\\lib\\site-packages\\stack_data\\core.py\", line 628, in executing_piece\n",
      "    return only(\n",
      "  File \"c:\\Users\\Juan\\anaconda3\\envs\\cudapy\\lib\\site-packages\\executing\\executing.py\", line 164, in only\n",
      "    raise NotOneValueFound('Expected one value, found 0')\n",
      "executing.executing.NotOneValueFound: Expected one value, found 0\n"
     ]
    }
   ],
   "source": [
    "from MyNetworkTemplate import MyNetwork\n",
    "import torch.utils.data as data\n",
    "DataClass = DermaMNIST\n",
    "\n",
    "from medmnist import INFO\n",
    "nClasses = len(INFO['dermamnist']['label'])\n",
    "\n",
    "#Training \n",
    "\n",
    "# Transforming images to Torch Tensor and Normalizing\n",
    "data_transform = transforms.Compose([\n",
    "    transforms.ToTensor(),\n",
    "    transforms.Normalize(mean=[0], std=[1])\n",
    "])\n",
    "\n",
    "## Obtaining the training, validation and test datasets\n",
    "trainingData = DataClass(split='train', transform=data_transform,  download= os.path.exists('./dermamnist.npz'), root = './')\n",
    "validationData = DataClass(split='val', transform=data_transform, download= os.path.exists('./dermamnist.npz'), root = './')\n",
    "testData = DataClass(split='test', transform=data_transform,  download= os.path.exists('./dermamnist.npz'), root = './')\n",
    "\n",
    "## This code will show a preview of the images\n",
    "#a = trainingData.montage(length=5)\n",
    "#plt.imshow(a)\n",
    "#plt.show()\n",
    "\n",
    "## Configuring the batch size and creating data loaders\n",
    "batchSize = 100\n",
    "trainLoader = data.DataLoader(dataset=trainingData, batch_size=batchSize, shuffle=True)\n",
    "validationLoader = data.DataLoader(dataset=validationData, batch_size=batchSize, shuffle=True)\n",
    "#testLoader = data.DataLoader(dataset=testData, batch_size=batchSize, shuffle=False)\n",
    "\n",
    "model = MyNetwork(nChannels, nClasses)\n",
    "model.trainModel(trainLoader, validationLoader)\n"
   ]
  }
 ],
 "metadata": {
  "kernelspec": {
   "display_name": "cudapy",
   "language": "python",
   "name": "python3"
  },
  "language_info": {
   "codemirror_mode": {
    "name": "ipython",
    "version": 3
   },
   "file_extension": ".py",
   "mimetype": "text/x-python",
   "name": "python",
   "nbconvert_exporter": "python",
   "pygments_lexer": "ipython3",
   "version": "3.10.9"
  }
 },
 "nbformat": 4,
 "nbformat_minor": 2
}
